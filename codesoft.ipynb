{
  "nbformat": 4,
  "nbformat_minor": 0,
  "metadata": {
    "colab": {
      "provenance": [],
      "authorship_tag": "ABX9TyOA3PsiOMbjCUN3ODQzJDh/",
      "include_colab_link": true
    },
    "kernelspec": {
      "name": "python3",
      "display_name": "Python 3"
    },
    "language_info": {
      "name": "python"
    }
  },
  "cells": [
    {
      "cell_type": "markdown",
      "metadata": {
        "id": "view-in-github",
        "colab_type": "text"
      },
      "source": [
        "<a href=\"https://colab.research.google.com/github/AdityaCypherX/AdityaCypherX/blob/main/codesoft.ipynb\" target=\"_parent\"><img src=\"https://colab.research.google.com/assets/colab-badge.svg\" alt=\"Open In Colab\"/></a>"
      ]
    },
    {
      "cell_type": "code",
      "execution_count": null,
      "metadata": {
        "id": "bpBUkkt5iYZu"
      },
      "outputs": [],
      "source": []
    },
    {
      "cell_type": "markdown",
      "source": [
        "**CALCULATOR**"
      ],
      "metadata": {
        "id": "k6mHUUe5iclg"
      }
    },
    {
      "cell_type": "code",
      "source": [
        "num1=int(input(\"enter the first number\"))\n",
        "num2=int(input(\"enter the second number\"))\n",
        "operation=input(\"choose an operation\")\n",
        "if operation==\"+\":\n",
        "  num=num1+num2\n",
        "if operation==\"-\":\n",
        "  num=num1-num2\n",
        "if operation==\"*\":\n",
        "  num=num1*num2\n",
        "if operation==\"/\":\n",
        "  num=num1/num2\n",
        "print(num)"
      ],
      "metadata": {
        "colab": {
          "base_uri": "https://localhost:8080/"
        },
        "id": "cVYMtTAlioqh",
        "outputId": "0be36d47-932a-4b1d-c909-e02224596140"
      },
      "execution_count": 5,
      "outputs": [
        {
          "output_type": "stream",
          "name": "stdout",
          "text": [
            "enter the first number5\n",
            "enter the second number9\n",
            "choose an operation*\n",
            "45\n"
          ]
        }
      ]
    }
  ]
}